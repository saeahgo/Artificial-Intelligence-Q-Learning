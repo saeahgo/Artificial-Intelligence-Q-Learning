{
  "nbformat": 4,
  "nbformat_minor": 0,
  "metadata": {
    "colab": {
      "provenance": []
    },
    "kernelspec": {
      "name": "python3",
      "display_name": "Python 3"
    },
    "language_info": {
      "name": "python"
    }
  },
  "cells": [
    {
      "cell_type": "markdown",
      "source": [
        "RL system main four components \\\n",
        "(1) a policy \\\n",
        "(2) a reward function (the goal), what is good in an immediate sense \\\n",
        "(3) a value function (specifies what is good in the long run) \\\n",
        "(4) (optimally) a model of the environment"
      ],
      "metadata": {
        "id": "GQcvPc7DLXSo"
      }
    },
    {
      "cell_type": "markdown",
      "source": [
        "Five Sensors: Current, North, South, East, and West\\\n",
        "return the value of the respective location, where the possible values are Empty, Can, and Wall.\n",
        "\n",
        "Five possible actions: \\\n",
        "Move-North, Move-South, Move-East, Move-West, & Pick-Up-Can. \\\n",
        "Note that we need to update the grid since when Robby picks up a can, the can is gone from the grid.\n",
        "\n",
        "Reward: \\\n",
        "10 if Robby picks up a can.\\\n",
        "-5 if he crashes into a wall\\\n",
        "-1 if he tries to pick up a can in an empty square."
      ],
      "metadata": {
        "id": "7lFEgpianCVI"
      }
    },
    {
      "cell_type": "code",
      "source": [
        "import numpy as np\n",
        "import random\n",
        "import matplotlib.pyplot as plt # plotting"
      ],
      "metadata": {
        "id": "8MsC-APzv66z"
      },
      "execution_count": null,
      "outputs": []
    },
    {
      "cell_type": "markdown",
      "source": [
        "# Create environment \n",
        "Zero means no can, one means can.\n",
        "So after pick up a can, I should update the environment value to zero."
      ],
      "metadata": {
        "id": "Gtb3eLtqaOvm"
      }
    },
    {
      "cell_type": "code",
      "source": [
        "# set up environment\n",
        "def environment(grid):\n",
        "  env = np.array([[np.random.randint(2) for i in range(grid)] for j in range(grid)], dtype = int)\n",
        "  return env "
      ],
      "metadata": {
        "id": "dcMHrgDLnUGV"
      },
      "execution_count": null,
      "outputs": []
    },
    {
      "cell_type": "code",
      "source": [
        "# observe state with sensors      0: empty, 1: can, 2: wall\n",
        "def sensorCurr(env, x, y):\n",
        "  return env[x, y]\n",
        "def sensorNorth(env, x, y):\n",
        "  if y == 0:\n",
        "    return 2\n",
        "  return env[x, y-1]\n",
        "def sensorSouth(env, x, y):\n",
        "  if y == env.shape[1]-1: \n",
        "    return 2\n",
        "  return env[x, y+1]\n",
        "def sensorEast(env, x, y):\n",
        "  if x == env.shape[0]-1:\n",
        "    return 2\n",
        "  return env[x+1, y]\n",
        "def sensorWest(env, x, y):\n",
        "  if x == 0:\n",
        "    return 2\n",
        "  return env[x-1, y]\n",
        "\n",
        "# observe Robby's current state s_t\n",
        "def observeState(env, x, y):\n",
        "  state = (sensorCurr(env, x, y), sensorNorth(env, x, y), sensorSouth(env, x, y), sensorEast(env, x, y), sensorWest(env, x, y))\n",
        "  return state\n",
        "\n",
        "# epsilon greedy action selection\n",
        "def epsilonGreedyActionSelection(env, epsilon, state):\n",
        "  action_list = ['Pick-Up', 'North', 'South', 'East', 'West']\n",
        "\n",
        "  # choose an action a_t, using epsilon greedy action selection\n",
        "  if random.random() < epsilon: \n",
        "    # explore: select a random action (non-optimal/non-greedy action from the current state)\n",
        "    action = random.choice(action_list)\n",
        "    action_index = action_list.index(action)\n",
        "  else: \n",
        "    # exploit: select the action with max value (future reward)\n",
        "    action_index = np.argmax(Q[state])  \n",
        "  return action_index\n",
        "\n",
        "def getReward(x, y, env, action):\n",
        "  reward = 0 # initial reward\n",
        "  # perform the action\n",
        "  if action == 4: # West\n",
        "    if x == 0: # hit the wall\n",
        "      reward = -5\n",
        "    else: \n",
        "      x -= 1\n",
        "  elif action == 3: # East\n",
        "    if x == env.shape[0] - 1: # hit the wall\n",
        "      reward = -5\n",
        "    else:\n",
        "      x += 1\n",
        "  elif action == 2: # South\n",
        "    if y == env.shape[1] - 1: # hit the wall\n",
        "      reward = -5\n",
        "    else:\n",
        "      y += 1\n",
        "  elif action == 1: # North\n",
        "    if y == 0: # hit the wall\n",
        "      reward = -5\n",
        "    else:\n",
        "      y -= 1\n",
        "  else: # pick up can\n",
        "      if env[x, y] == 0: # tries to pick up a can in an empty square\n",
        "        reward = -1\n",
        "      else:\n",
        "        env[x, y] = 0\n",
        "        reward = 10\n",
        "  return x, y, reward"
      ],
      "metadata": {
        "id": "tnyGzDR2y2DT"
      },
      "execution_count": null,
      "outputs": []
    },
    {
      "cell_type": "code",
      "source": [
        "def QLearning(N, M, Q, grid, epsilon, eta, gamma, decreasing_epsilon):\n",
        "  total_reward_array = []\n",
        "  total_reward = 0\n",
        "\n",
        "  for episode in range(N):\n",
        "    # generate a new distribution of cans and place Robby in a random grid square to start the new episode\n",
        "    env = environment(grid)\n",
        "\n",
        "    # Robby is initially places in a random grid square\n",
        "    x = random.randint(0, grid-1)\n",
        "    y = random.randint(0, grid-1)\n",
        "\n",
        "    # update epsilon until epsilon would be zero\n",
        "    if (episode % 50 == 0) and (decreasing_epsilon == True):\n",
        "      if epsilon > 0:\n",
        "        epsilon = epsilon - 0.005\n",
        "      else:\n",
        "        epsilon = 0\n",
        "\n",
        "    for step in range(M):\n",
        "      # observe state\n",
        "      state = observeState(env, x, y)\n",
        "      if state not in Q:\n",
        "        Q[state] = np.zeros(5)\n",
        "      \n",
        "      # select action\n",
        "      action = epsilonGreedyActionSelection(env, epsilon, state)\n",
        "\n",
        "      # take action and receive reward\n",
        "      new_x, new_y, reward = getReward(x, y, env, action)\n",
        "\n",
        "      # receive reward r\n",
        "      total_reward += reward\n",
        "\n",
        "      # observe Robby's new state s_t+1\n",
        "      new_state = observeState(env, new_x, new_y) \n",
        "      if new_state not in Q:\n",
        "        Q[new_state] = np.zeros(5)\n",
        "\n",
        "      # update Q(s,a) for training\n",
        "      if decreasing_epsilon == True:\n",
        "        Q[state][action] = Q[state][action] + eta * (reward + gamma * np.max(Q[new_state]) - Q[state][action])\n",
        "\n",
        "      # update s_t <- s_t+1\n",
        "      state = new_state\n",
        "      x = new_x\n",
        "      y = new_y\n",
        "\n",
        "    # keep track of the total reward gained per episode (every 100 episodes)\n",
        "    total_reward_array.append(total_reward)\n",
        "    total_reward = 0\n",
        "    \n",
        "  return total_reward_array, Q"
      ],
      "metadata": {
        "id": "pRptrWLlyhSY"
      },
      "execution_count": null,
      "outputs": []
    },
    {
      "cell_type": "code",
      "source": [
        "grid = 10\n",
        "state_size = grid * grid # 10 x 10 grid\n",
        "action_size = 5 # NSEW+PickUpCan\n",
        "\n",
        "# Initialize q-table values to 0\n",
        "Q = {} \n",
        "\n",
        "N = 5000 # episode\n",
        "M = 200 # steps(actions)\n",
        "eta = 0.2 # learning rate\n",
        "gamma = 0.9 # discount factor\n",
        "epsilon = 0.1 # initial epsilon is 0.1 --> gradually decrease to 0\n",
        "\n",
        "decreasing_epsilon = True\n",
        "train_reward, train_Q = QLearning(N, M, Q, grid, epsilon, eta, gamma, decreasing_epsilon)\n",
        "\n",
        "decreasing_epsilon = False\n",
        "test_reward, test_Q = QLearning(N, M, train_Q, grid, epsilon, eta, gamma, decreasing_epsilon)"
      ],
      "metadata": {
        "id": "dyumZJe_nLk0"
      },
      "execution_count": null,
      "outputs": []
    },
    {
      "cell_type": "markdown",
      "source": [
        "# Training Reward Plot & Test Reward Calculation (Average, Standard Deviation)"
      ],
      "metadata": {
        "id": "Y5b7qJ5y6ty9"
      }
    },
    {
      "cell_type": "code",
      "source": [
        "total = 0\n",
        "cumulative_train_reward = []\n",
        "for i in range(len(train_reward)):\n",
        "  total += train_reward[i]\n",
        "  if i % 100 == 0 and i != 0:\n",
        "    cumulative_train_reward.append(total/100)\n",
        "    total = 0\n",
        "\n",
        "plt.suptitle(\"Training Reward Plot\" )\n",
        "plt.title(\"Train Robby\")\n",
        "plt.plot(cumulative_train_reward) \n",
        "plt.ylabel('Total Reward', fontsize = 10)\n",
        "plt.xlabel('Episode (every 100 episodes)', fontsize=10)\n",
        "plt.show()\n",
        "\n",
        "test_avg = np.mean(test_reward)\n",
        "test_sd = np.std(test_reward)\n",
        "print(\"Test Average is: \", test_avg)\n",
        "print(\"Test Standard Deviation is: \", test_sd)"
      ],
      "metadata": {
        "colab": {
          "base_uri": "https://localhost:8080/",
          "height": 344
        },
        "id": "qXWljo4u6tDf",
        "outputId": "6b8f864b-7fc9-4870-e81f-0195d8652482"
      },
      "execution_count": null,
      "outputs": [
        {
          "output_type": "display_data",
          "data": {
            "text/plain": [
              "<Figure size 432x288 with 1 Axes>"
            ],
            "image/png": "[encoded data removed]"
          },
          "metadata": {
            "needs_background": "light"
          }
        },
        {
          "output_type": "stream",
          "name": "stdout",
          "text": [
            "Test Average is:  458.6352\n",
            "Test Standard Deviation is:  55.76667572089984\n"
          ]
        }
      ]
    }
  ]
}